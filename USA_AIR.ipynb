{
 "cells": [
  {
   "cell_type": "code",
   "execution_count": 103,
   "id": "e2a25596-a728-42d8-a845-9da438f70355",
   "metadata": {},
   "outputs": [
    {
     "name": "stdout",
     "output_type": "stream",
     "text": [
      "5926\n"
     ]
    }
   ],
   "source": [
    "import json\n",
    "import pandas as pd\n",
    "import numpy as np\n",
    "import datetime\n",
    "\n",
    "data = json.load(open('rows.json'))\n",
    "df = pd.DataFrame(data[\"data\"])\n",
    "\n",
    "df.drop(df.columns[[0, 1, 2, 3 , 4, 5, 6, 7]], axis = 1, inplace = True)\n",
    "\n",
    "df.columns = ['MeasureId','MeasureName', 'MeasureType','StratificationLevel',\n",
    " 'StateFips','StateName','CountyFips','CountyName','ReportYear','Value',\n",
    " 'Unit','UnitName','DataOrigin','MonitorOnly']\n",
    "\n",
    "df['ReportYear'] = df['ReportYear'].astype(int)\n",
    "\n",
    "ini_cnt = len(df)\n",
    "\n",
    "df = df.drop(df[(df['ReportYear'] <= 2000)  | (df['ReportYear'] >=  2500)].index)\n",
    "\n",
    "after_cnt = len(df)\n",
    "\n",
    "drp_cnt = ini_cnt - after_cnt\n",
    "\n",
    "insrt_cnt = ini_cnt - drp_cnt\n",
    "\n",
    "print(drp_cnt)\n",
    "\n",
    "#print(df.iloc [0:3, 0:5] )   # to get few column and rows\n",
    "\n",
    "#df = df.dropna()            # drop any record has null value.\n",
    "\n",
    "#df.head()\n",
    "#p_csv=df\n",
    "#p_csv.to_csv('file1.csv', header=True, index=False\n",
    "\n",
    "\n"
   ]
  },
  {
   "cell_type": "code",
   "execution_count": null,
   "id": "bd6255cc-3f3d-4818-9414-2680e15b8849",
   "metadata": {},
   "outputs": [],
   "source": [
    "import pyodbc \n",
    "conn = pyodbc.connect('Driver={SQL Server};'\n",
    "                      'Server=WIN-L2LB0OHREB5\\SQLEXPRESS;'\n",
    "                      'Database=master;'  \n",
    "                      'Trusted_Connection=yes;')\n",
    "\n",
    "cursor = conn.cursor()\n",
    "#cursor.execute('SELECT * FROM airaqa1')\n",
    "\n",
    "#df = pd.read_sql_query('SELECT * FROM airaqa1', conn)\n",
    "\n",
    "#print(df)\n",
    "#print(type(df))"
   ]
  },
  {
   "cell_type": "code",
   "execution_count": 57,
   "id": "1a4a8902-6412-4347-b690-9d1ce4db1c46",
   "metadata": {},
   "outputs": [],
   "source": [
    "cursor.execute('''\n",
    "\t\tCREATE TABLE AIR_QUALITY1 (\n",
    "MeasureId nvarchar(50),\n",
    "MeasureName nvarchar(1000),\n",
    "MeasureType nvarchar(200),\n",
    "StratificationLevel nvarchar(50),\n",
    "StateFips nvarchar(50),\n",
    "StateName nvarchar(50),\n",
    "CountyFips nvarchar(50),\n",
    "CountyName nvarchar(50),\n",
    "ReportYear nvarchar(50),\n",
    "Value nvarchar(50),\n",
    "Unit nvarchar(50),\n",
    "UnitName nvarchar(50),\n",
    "DataOrigin nvarchar(50),\n",
    "MonitorOnly nvarchar(50))\n",
    "               ''')\n",
    "conn.commit()"
   ]
  },
  {
   "cell_type": "code",
   "execution_count": 84,
   "id": "78121c4b-dce7-45f3-a49b-f1aede9b7b7c",
   "metadata": {},
   "outputs": [
    {
     "ename": "KeyboardInterrupt",
     "evalue": "",
     "output_type": "error",
     "traceback": [
      "\u001b[1;31m---------------------------------------------------------------------------\u001b[0m",
      "\u001b[1;31mKeyboardInterrupt\u001b[0m                         Traceback (most recent call last)",
      "\u001b[1;32mC:\\Users\\0329B5~1\\AppData\\Local\\Temp/ipykernel_22440/360736372.py\u001b[0m in \u001b[0;36m<module>\u001b[1;34m\u001b[0m\n\u001b[0;32m      1\u001b[0m \u001b[1;32mfor\u001b[0m \u001b[0mindex\u001b[0m\u001b[1;33m,\u001b[0m \u001b[0mrow\u001b[0m \u001b[1;32min\u001b[0m \u001b[0mdf\u001b[0m\u001b[1;33m.\u001b[0m\u001b[0miterrows\u001b[0m\u001b[1;33m(\u001b[0m\u001b[1;33m)\u001b[0m\u001b[1;33m:\u001b[0m\u001b[1;33m\u001b[0m\u001b[1;33m\u001b[0m\u001b[0m\n\u001b[1;32m----> 2\u001b[1;33m      cursor.execute(\"INSERT INTO AIR_QUALITY1 (MeasureId) values(?)\", row.MeasureId\n\u001b[0m\u001b[0;32m      3\u001b[0m )\n\u001b[0;32m      4\u001b[0m \u001b[0mconn\u001b[0m\u001b[1;33m.\u001b[0m\u001b[0mcommit\u001b[0m\u001b[1;33m(\u001b[0m\u001b[1;33m)\u001b[0m\u001b[1;33m\u001b[0m\u001b[1;33m\u001b[0m\u001b[0m\n\u001b[0;32m      5\u001b[0m \u001b[0mcursor\u001b[0m\u001b[1;33m.\u001b[0m\u001b[0mclose\u001b[0m\u001b[1;33m(\u001b[0m\u001b[1;33m)\u001b[0m\u001b[1;33m\u001b[0m\u001b[1;33m\u001b[0m\u001b[0m\n",
      "\u001b[1;31mKeyboardInterrupt\u001b[0m: "
     ]
    }
   ],
   "source": [
    "for index, row in df.iterrows():\n",
    "     cursor.execute(\"INSERT INTO AIR_QUALITY1 (MeasureId, MeasureName ,\n",
    "MeasureType,StratificationLevel,StateFips,StateName,CountyFips,CountyName,\n",
    "ReportYear,Value,Unit,UnitName,DataOrigin,MonitorOnly) values(?,?,?,?,?,?,?,?,?,?,?,?,?,?)\", \n",
    "row.MeasureId, row.MeasureName ,row.MeasureType,row.StratificationLevel,row.StateFips,row.StateName,\n",
    "row.CountyFips,row.CountyName,row.ReportYear,row.Value,row.Unit,row.UnitName,row.DataOrigin,\n",
    "row.MonitorOnly\n",
    ")\n",
    "conn.commit()\n",
    "cursor.close()"
   ]
  },
  {
   "cell_type": "code",
   "execution_count": 104,
   "id": "93a29fc7-119a-4854-8f32-6d16cb24b08d",
   "metadata": {},
   "outputs": [
    {
     "name": "stdout",
     "output_type": "stream",
     "text": [
      "Create cnt file\n",
      "comments completed\n"
     ]
    }
   ],
   "source": [
    "import datetime\n",
    "\n",
    "print(\"Create cnt file\")\n",
    "x = datetime.datetime.now()\n",
    "today_date= str(x.year)+str(x.strftime(\"%m\"))+str(x.strftime(\"%d\"))\n",
    "today_date\n",
    "backup_file_name=\"air_quality_\"+today_date+\".txt\"\n",
    "backup_file_name\n",
    "backup_file=backup_file_name\n",
    "\n",
    "\n",
    "with open(backup_file, \"w\") as text_file:\n",
    "    text_file.write(\"/* -------------------------------------------------------------------------\\n\")\n",
    "    text_file.write(\"/** Total number of records  **/\")\n",
    "    text_file.write(\"\\n\")\n",
    "    text_file.write(\"/*    CNT: %s\" % ini_cnt)\n",
    "    text_file.write(\"\\n\")\n",
    "    text_file.write(\"/** Total number of dropped records  **/\")\n",
    "    text_file.write(\"\\n\")\n",
    "    text_file.write(\"/*    CNT: %s\" % drp_cnt)\n",
    "    text_file.write(\"\\n\")\n",
    "    text_file.write(\"/** Total number of inserted records  **/\")\n",
    "    text_file.write(\"\\n\")\n",
    "    text_file.write(\"/*    CNT: %s\" % insrt_cnt)\n",
    "    text_file.write(\"\\n\")\n",
    "    text_file.write(\"/*    Date: %s\" % today_date)\n",
    "    text_file.write(\"\\n\")\n",
    "    text_file.write(\"\\n\")\n",
    "    text_file.write(\"--------------------------------------------------------------------------*/\\n\")\n",
    "    text_file.write(\"\\n\")\n",
    "    text_file.write(\"\\n\")\n",
    "print(\"comments completed\")\n"
   ]
  },
  {
   "cell_type": "code",
   "execution_count": null,
   "id": "352d935a-f3d3-4be5-9a63-6fb809fc3660",
   "metadata": {},
   "outputs": [],
   "source": []
  }
 ],
 "metadata": {
  "kernelspec": {
   "display_name": "Python 3 (ipykernel)",
   "language": "python",
   "name": "python3"
  },
  "language_info": {
   "codemirror_mode": {
    "name": "ipython",
    "version": 3
   },
   "file_extension": ".py",
   "mimetype": "text/x-python",
   "name": "python",
   "nbconvert_exporter": "python",
   "pygments_lexer": "ipython3",
   "version": "3.9.7"
  }
 },
 "nbformat": 4,
 "nbformat_minor": 5
}
